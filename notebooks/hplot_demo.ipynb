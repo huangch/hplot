{
 "cells": [
  {
   "cell_type": "markdown",
   "id": "d2a5a2b7",
   "metadata": {},
   "source": [
    "# H-Plot Demo\n",
    "This notebook demonstrates how to use the `hplot` package to compute and visualize spatial heterogeneity around tumor regions."
   ]
  },
  {
   "cell_type": "code",
   "execution_count": null,
   "id": "21f656c1",
   "metadata": {},
   "outputs": [],
   "source": [
    "import pandas as pd\n",
    "import numpy as np\n",
    "from hplot.core import HPlot\n"
   ]
  },
  {
   "cell_type": "markdown",
   "id": "66249955",
   "metadata": {},
   "source": [
    "## Simulate synthetic data"
   ]
  },
  {
   "cell_type": "code",
   "execution_count": null,
   "id": "7a2a363d",
   "metadata": {},
   "outputs": [],
   "source": [
    "np.random.seed(0)\n",
    "\n",
    "layers = list(range(-3, 4))\n",
    "groups = ['Hot', 'Cold']\n",
    "\n",
    "rows = []\n",
    "for region in range(10):\n",
    "    group = np.random.choice(groups)\n",
    "    for layer in layers:\n",
    "        p = 0.6 - 0.1 * abs(layer) if group == 'Hot' else 0.2 - 0.05 * abs(layer)\n",
    "        p = max(p, 0)\n",
    "        rows.append({\n",
    "            'region_id': f'R{region}',\n",
    "            'layer': layer,\n",
    "            'value': p + np.random.normal(0, 0.05),\n",
    "            'group': group\n",
    "        })\n",
    "\n",
    "df = pd.DataFrame(rows)\n",
    "df.head()"
   ]
  },
  {
   "cell_type": "markdown",
   "id": "87ffd4f7",
   "metadata": {},
   "source": [
    "## Create and fit HPlot"
   ]
  },
  {
   "cell_type": "code",
   "execution_count": null,
   "id": "c37c20e8",
   "metadata": {},
   "outputs": [],
   "source": [
    "h = HPlot()\n",
    "h.fit(df, value_col='value', layer_col='layer', region_col='region_id', group_col='group')"
   ]
  },
  {
   "cell_type": "markdown",
   "id": "4cbae429",
   "metadata": {},
   "source": [
    "## Plot the spatial heterogeneity"
   ]
  },
  {
   "cell_type": "code",
   "execution_count": null,
   "id": "bf6c69a2",
   "metadata": {},
   "outputs": [],
   "source": [
    "h.plot(ci_show=True)"
   ]
  }
 ],
 "metadata": {},
 "nbformat": 4,
 "nbformat_minor": 5
}
